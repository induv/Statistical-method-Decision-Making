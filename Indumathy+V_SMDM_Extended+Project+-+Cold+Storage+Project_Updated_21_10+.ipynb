{
 "cells": [
  {
   "cell_type": "code",
   "execution_count": 1,
   "id": "c332f88f",
   "metadata": {},
   "outputs": [],
   "source": [
    "import numpy as np\n",
    "import pandas as pd\n",
    "from scipy.stats import f\n",
    "import matplotlib.pyplot as plt \n",
    "%matplotlib inline\n",
    "import seaborn as sns\n",
    "import scipy.stats as stats\n",
    "from scipy.stats import ttest_1samp, ttest_ind\n",
    "from statsmodels.stats.power import ttest_power\n",
    "from statistics import mode"
   ]
  },
  {
   "cell_type": "code",
   "execution_count": 2,
   "id": "4fc6ce9a",
   "metadata": {},
   "outputs": [],
   "source": [
    "df=pd.read_csv('Cold_Storage_Temp_Data_-1.csv')"
   ]
  },
  {
   "cell_type": "code",
   "execution_count": 3,
   "id": "beb6d42c",
   "metadata": {},
   "outputs": [
    {
     "data": {
      "text/html": [
       "<div>\n",
       "<style scoped>\n",
       "    .dataframe tbody tr th:only-of-type {\n",
       "        vertical-align: middle;\n",
       "    }\n",
       "\n",
       "    .dataframe tbody tr th {\n",
       "        vertical-align: top;\n",
       "    }\n",
       "\n",
       "    .dataframe thead th {\n",
       "        text-align: right;\n",
       "    }\n",
       "</style>\n",
       "<table border=\"1\" class=\"dataframe\">\n",
       "  <thead>\n",
       "    <tr style=\"text-align: right;\">\n",
       "      <th></th>\n",
       "      <th>Season</th>\n",
       "      <th>Month</th>\n",
       "      <th>Date</th>\n",
       "      <th>Temperature</th>\n",
       "    </tr>\n",
       "  </thead>\n",
       "  <tbody>\n",
       "    <tr>\n",
       "      <th>0</th>\n",
       "      <td>Winter</td>\n",
       "      <td>Jan</td>\n",
       "      <td>1</td>\n",
       "      <td>2.3</td>\n",
       "    </tr>\n",
       "    <tr>\n",
       "      <th>1</th>\n",
       "      <td>Winter</td>\n",
       "      <td>Jan</td>\n",
       "      <td>2</td>\n",
       "      <td>2.2</td>\n",
       "    </tr>\n",
       "    <tr>\n",
       "      <th>2</th>\n",
       "      <td>Winter</td>\n",
       "      <td>Jan</td>\n",
       "      <td>3</td>\n",
       "      <td>2.4</td>\n",
       "    </tr>\n",
       "    <tr>\n",
       "      <th>3</th>\n",
       "      <td>Winter</td>\n",
       "      <td>Jan</td>\n",
       "      <td>4</td>\n",
       "      <td>2.8</td>\n",
       "    </tr>\n",
       "    <tr>\n",
       "      <th>4</th>\n",
       "      <td>Winter</td>\n",
       "      <td>Jan</td>\n",
       "      <td>5</td>\n",
       "      <td>2.5</td>\n",
       "    </tr>\n",
       "  </tbody>\n",
       "</table>\n",
       "</div>"
      ],
      "text/plain": [
       "   Season Month  Date  Temperature\n",
       "0  Winter   Jan     1          2.3\n",
       "1  Winter   Jan     2          2.2\n",
       "2  Winter   Jan     3          2.4\n",
       "3  Winter   Jan     4          2.8\n",
       "4  Winter   Jan     5          2.5"
      ]
     },
     "execution_count": 3,
     "metadata": {},
     "output_type": "execute_result"
    }
   ],
   "source": [
    "df.head()"
   ]
  },
  {
   "cell_type": "code",
   "execution_count": 5,
   "id": "57af1c6d",
   "metadata": {},
   "outputs": [
    {
     "data": {
      "text/plain": [
       "array([2.3, 2.2, 2.4, 2.8, 2.5, 3. , 2.9, 2.6, 3.4, 3.9, 3.3, 2.7, 3.5,\n",
       "       3.8, 3.1, 3.2, 3.7, 3.6, 4. , 2.1, 4.2, 1.9, 4.3, 4.1, 4.5, 4.4,\n",
       "       1.7, 1.8, 2. ])"
      ]
     },
     "execution_count": 5,
     "metadata": {},
     "output_type": "execute_result"
    }
   ],
   "source": [
    "df['Temperature'].unique()"
   ]
  },
  {
   "cell_type": "code",
   "execution_count": 6,
   "id": "7a6d9873",
   "metadata": {},
   "outputs": [
    {
     "name": "stdout",
     "output_type": "stream",
     "text": [
      "<class 'pandas.core.frame.DataFrame'>\n",
      "RangeIndex: 365 entries, 0 to 364\n",
      "Data columns (total 4 columns):\n",
      " #   Column       Non-Null Count  Dtype  \n",
      "---  ------       --------------  -----  \n",
      " 0   Season       365 non-null    object \n",
      " 1   Month        365 non-null    object \n",
      " 2   Date         365 non-null    int64  \n",
      " 3   Temperature  365 non-null    float64\n",
      "dtypes: float64(1), int64(1), object(2)\n",
      "memory usage: 11.5+ KB\n"
     ]
    }
   ],
   "source": [
    "df.info()"
   ]
  },
  {
   "cell_type": "code",
   "execution_count": 7,
   "id": "589ae63c",
   "metadata": {},
   "outputs": [
    {
     "data": {
      "text/plain": [
       "(365, 4)"
      ]
     },
     "execution_count": 7,
     "metadata": {},
     "output_type": "execute_result"
    }
   ],
   "source": [
    "df.shape"
   ]
  },
  {
   "cell_type": "code",
   "execution_count": 8,
   "id": "be4c8ea4",
   "metadata": {},
   "outputs": [
    {
     "data": {
      "text/html": [
       "<div>\n",
       "<style scoped>\n",
       "    .dataframe tbody tr th:only-of-type {\n",
       "        vertical-align: middle;\n",
       "    }\n",
       "\n",
       "    .dataframe tbody tr th {\n",
       "        vertical-align: top;\n",
       "    }\n",
       "\n",
       "    .dataframe thead th {\n",
       "        text-align: right;\n",
       "    }\n",
       "</style>\n",
       "<table border=\"1\" class=\"dataframe\">\n",
       "  <thead>\n",
       "    <tr style=\"text-align: right;\">\n",
       "      <th></th>\n",
       "      <th>Date</th>\n",
       "      <th>Temperature</th>\n",
       "    </tr>\n",
       "  </thead>\n",
       "  <tbody>\n",
       "    <tr>\n",
       "      <th>count</th>\n",
       "      <td>365.000000</td>\n",
       "      <td>365.000000</td>\n",
       "    </tr>\n",
       "    <tr>\n",
       "      <th>mean</th>\n",
       "      <td>15.720548</td>\n",
       "      <td>3.002466</td>\n",
       "    </tr>\n",
       "    <tr>\n",
       "      <th>std</th>\n",
       "      <td>8.808321</td>\n",
       "      <td>0.465832</td>\n",
       "    </tr>\n",
       "    <tr>\n",
       "      <th>min</th>\n",
       "      <td>1.000000</td>\n",
       "      <td>1.700000</td>\n",
       "    </tr>\n",
       "    <tr>\n",
       "      <th>25%</th>\n",
       "      <td>8.000000</td>\n",
       "      <td>2.700000</td>\n",
       "    </tr>\n",
       "    <tr>\n",
       "      <th>50%</th>\n",
       "      <td>16.000000</td>\n",
       "      <td>3.000000</td>\n",
       "    </tr>\n",
       "    <tr>\n",
       "      <th>75%</th>\n",
       "      <td>23.000000</td>\n",
       "      <td>3.300000</td>\n",
       "    </tr>\n",
       "    <tr>\n",
       "      <th>max</th>\n",
       "      <td>31.000000</td>\n",
       "      <td>4.500000</td>\n",
       "    </tr>\n",
       "  </tbody>\n",
       "</table>\n",
       "</div>"
      ],
      "text/plain": [
       "             Date  Temperature\n",
       "count  365.000000   365.000000\n",
       "mean    15.720548     3.002466\n",
       "std      8.808321     0.465832\n",
       "min      1.000000     1.700000\n",
       "25%      8.000000     2.700000\n",
       "50%     16.000000     3.000000\n",
       "75%     23.000000     3.300000\n",
       "max     31.000000     4.500000"
      ]
     },
     "execution_count": 8,
     "metadata": {},
     "output_type": "execute_result"
    }
   ],
   "source": [
    "df.describe()"
   ]
  },
  {
   "cell_type": "code",
   "execution_count": 9,
   "id": "9e034228",
   "metadata": {},
   "outputs": [
    {
     "data": {
      "text/plain": [
       "Season         0\n",
       "Month          0\n",
       "Date           0\n",
       "Temperature    0\n",
       "dtype: int64"
      ]
     },
     "execution_count": 9,
     "metadata": {},
     "output_type": "execute_result"
    }
   ],
   "source": [
    "df.isnull().sum()"
   ]
  },
  {
   "cell_type": "code",
   "execution_count": 10,
   "id": "86c25cf3",
   "metadata": {},
   "outputs": [
    {
     "data": {
      "text/plain": [
       "Season          object\n",
       "Month           object\n",
       "Date             int64\n",
       "Temperature    float64\n",
       "dtype: object"
      ]
     },
     "execution_count": 10,
     "metadata": {},
     "output_type": "execute_result"
    }
   ],
   "source": [
    "df.dtypes"
   ]
  },
  {
   "cell_type": "code",
   "execution_count": 11,
   "id": "81361639",
   "metadata": {},
   "outputs": [
    {
     "data": {
      "text/plain": [
       "365"
      ]
     },
     "execution_count": 11,
     "metadata": {},
     "output_type": "execute_result"
    }
   ],
   "source": [
    "df['Temperature'].count()"
   ]
  },
  {
   "cell_type": "markdown",
   "id": "d853a5f1",
   "metadata": {},
   "source": [
    "1.Find mean cold storage temperature for Summer, Winter, and Rainy Season."
   ]
  },
  {
   "cell_type": "code",
   "execution_count": 12,
   "id": "16f3cc0b",
   "metadata": {},
   "outputs": [
    {
     "name": "stdout",
     "output_type": "stream",
     "text": [
      "Mean cold Temperature for Summer:  3.1475\n"
     ]
    },
    {
     "name": "stderr",
     "output_type": "stream",
     "text": [
      "C:\\Users\\Indu\\AppData\\Local\\Temp/ipykernel_24804/2535334353.py:1: FutureWarning: Dropping of nuisance columns in DataFrame reductions (with 'numeric_only=None') is deprecated; in a future version this will raise TypeError.  Select only valid columns before calling the reduction.\n",
      "  summer=df[(df.Season=='Summer') ].mean()\n"
     ]
    }
   ],
   "source": [
    "summer=df[(df.Season=='Summer') ].mean()\n",
    "print('Mean cold Temperature for Summer: ', summer[1])"
   ]
  },
  {
   "cell_type": "code",
   "execution_count": 13,
   "id": "273a1954",
   "metadata": {},
   "outputs": [
    {
     "name": "stdout",
     "output_type": "stream",
     "text": [
      "Mean cold Temperature for Winter:  2.776422764227643\n"
     ]
    },
    {
     "name": "stderr",
     "output_type": "stream",
     "text": [
      "C:\\Users\\Indu\\AppData\\Local\\Temp/ipykernel_24804/1996695235.py:1: FutureWarning: Dropping of nuisance columns in DataFrame reductions (with 'numeric_only=None') is deprecated; in a future version this will raise TypeError.  Select only valid columns before calling the reduction.\n",
      "  winter=df[(df.Season=='Winter') ].mean()\n"
     ]
    }
   ],
   "source": [
    "winter=df[(df.Season=='Winter') ].mean()\n",
    "print('Mean cold Temperature for Winter: ', winter[1])"
   ]
  },
  {
   "cell_type": "code",
   "execution_count": 14,
   "id": "3c76913d",
   "metadata": {},
   "outputs": [
    {
     "name": "stdout",
     "output_type": "stream",
     "text": [
      "Mean cold Temperature for Rainy:  3.0877049180327876\n"
     ]
    },
    {
     "name": "stderr",
     "output_type": "stream",
     "text": [
      "C:\\Users\\Indu\\AppData\\Local\\Temp/ipykernel_24804/1502012606.py:1: FutureWarning: Dropping of nuisance columns in DataFrame reductions (with 'numeric_only=None') is deprecated; in a future version this will raise TypeError.  Select only valid columns before calling the reduction.\n",
      "  rainy=df[(df.Season=='Rainy') ].mean()\n"
     ]
    }
   ],
   "source": [
    "rainy=df[(df.Season=='Rainy') ].mean()\n",
    "print('Mean cold Temperature for Rainy: ', rainy[1])"
   ]
  },
  {
   "cell_type": "markdown",
   "id": "ff5a9b77",
   "metadata": {},
   "source": [
    "2.Find the overall mean for the full year."
   ]
  },
  {
   "cell_type": "code",
   "execution_count": 16,
   "id": "da845409",
   "metadata": {},
   "outputs": [
    {
     "name": "stdout",
     "output_type": "stream",
     "text": [
      "Overall mean for full year is :  3.0024657534246546\n"
     ]
    }
   ],
   "source": [
    "mean=df['Temperature'].mean()\n",
    "print('Overall mean for full year is : ',mean)"
   ]
  },
  {
   "cell_type": "markdown",
   "id": "8f13c411",
   "metadata": {},
   "source": [
    "3.Standard Deviation for the full year"
   ]
  },
  {
   "cell_type": "code",
   "execution_count": 17,
   "id": "e78485dc",
   "metadata": {},
   "outputs": [
    {
     "name": "stdout",
     "output_type": "stream",
     "text": [
      "Overall Standard Deviation for full year is :  0.4658319416510761\n"
     ]
    }
   ],
   "source": [
    "std=df['Temperature'].std()\n",
    "print('Overall Standard Deviation for full year is : ',std)"
   ]
  },
  {
   "cell_type": "markdown",
   "id": "8c89eca3",
   "metadata": {},
   "source": [
    "4.Assume Normal distribution, what is the probability of temperature having fallen below 2º C?"
   ]
  },
  {
   "cell_type": "code",
   "execution_count": 18,
   "id": "6967f8d9",
   "metadata": {},
   "outputs": [],
   "source": [
    "z=(2-mean)/std"
   ]
  },
  {
   "cell_type": "code",
   "execution_count": 19,
   "id": "13d7b123",
   "metadata": {},
   "outputs": [
    {
     "data": {
      "text/plain": [
       "0.015699064791364483"
      ]
     },
     "execution_count": 19,
     "metadata": {},
     "output_type": "execute_result"
    }
   ],
   "source": [
    "stats.norm.cdf(z)#probability of temp having fallen 2 degree c"
   ]
  },
  {
   "cell_type": "markdown",
   "id": "07d3a742",
   "metadata": {},
   "source": [
    "5.Assume Normal distribution, what is the probability of temperature having gone above 4º C?"
   ]
  },
  {
   "cell_type": "code",
   "execution_count": 20,
   "id": "8e3e8c55",
   "metadata": {},
   "outputs": [],
   "source": [
    "z=(4-mean)/std"
   ]
  },
  {
   "cell_type": "code",
   "execution_count": 21,
   "id": "2b6cc86c",
   "metadata": {},
   "outputs": [
    {
     "data": {
      "text/plain": [
       "0.016120748141275842"
      ]
     },
     "execution_count": 21,
     "metadata": {},
     "output_type": "execute_result"
    }
   ],
   "source": [
    "1-stats.norm.cdf(z)#probability of temp having gone above 4 degree c"
   ]
  },
  {
   "cell_type": "markdown",
   "id": "1f9500f5",
   "metadata": {},
   "source": [
    "PROBLEM 2\n",
    "In Mar 2018, Cold Storage started getting complaints from their clients that they have been getting complaints from\n",
    "end consumers of the dairy products going sour and often smelling. On getting these complaints, the supervisor\n",
    "pulls out data of the last 35 days’ temperatures. As a safety measure, the Supervisor has been vigilant to maintain\n",
    "the mean temperature 3.9º C or below.\n",
    "Assume 3.9º C as the upper acceptable mean temperature and at alpha = 0.1 do you feel that there is a\n",
    "need for some corrective action in the Cold Storage Plant or is it that the problem is from the procurement\n",
    "side from where Cold Storage is getting the Dairy Products. The data of the last 35 days is in\n",
    "“Cold_Storage_Mar2018_.csv”\n",
    "1. Which Hypothesis test shall be performed to check if corrective action is needed at the cold storage plant? Justify your answer."
   ]
  },
  {
   "cell_type": "code",
   "execution_count": 22,
   "id": "5c77d393",
   "metadata": {},
   "outputs": [],
   "source": [
    "fd=pd.read_csv('Cold_Storage_Mar2018_.csv')"
   ]
  },
  {
   "cell_type": "code",
   "execution_count": 23,
   "id": "be032433",
   "metadata": {},
   "outputs": [
    {
     "data": {
      "text/html": [
       "<div>\n",
       "<style scoped>\n",
       "    .dataframe tbody tr th:only-of-type {\n",
       "        vertical-align: middle;\n",
       "    }\n",
       "\n",
       "    .dataframe tbody tr th {\n",
       "        vertical-align: top;\n",
       "    }\n",
       "\n",
       "    .dataframe thead th {\n",
       "        text-align: right;\n",
       "    }\n",
       "</style>\n",
       "<table border=\"1\" class=\"dataframe\">\n",
       "  <thead>\n",
       "    <tr style=\"text-align: right;\">\n",
       "      <th></th>\n",
       "      <th>Season</th>\n",
       "      <th>Month</th>\n",
       "      <th>Date</th>\n",
       "      <th>Temperature</th>\n",
       "    </tr>\n",
       "  </thead>\n",
       "  <tbody>\n",
       "    <tr>\n",
       "      <th>0</th>\n",
       "      <td>Summer</td>\n",
       "      <td>Feb</td>\n",
       "      <td>11</td>\n",
       "      <td>4.0</td>\n",
       "    </tr>\n",
       "    <tr>\n",
       "      <th>1</th>\n",
       "      <td>Summer</td>\n",
       "      <td>Feb</td>\n",
       "      <td>12</td>\n",
       "      <td>3.9</td>\n",
       "    </tr>\n",
       "    <tr>\n",
       "      <th>2</th>\n",
       "      <td>Summer</td>\n",
       "      <td>Feb</td>\n",
       "      <td>13</td>\n",
       "      <td>3.9</td>\n",
       "    </tr>\n",
       "    <tr>\n",
       "      <th>3</th>\n",
       "      <td>Summer</td>\n",
       "      <td>Feb</td>\n",
       "      <td>14</td>\n",
       "      <td>4.0</td>\n",
       "    </tr>\n",
       "    <tr>\n",
       "      <th>4</th>\n",
       "      <td>Summer</td>\n",
       "      <td>Feb</td>\n",
       "      <td>15</td>\n",
       "      <td>3.8</td>\n",
       "    </tr>\n",
       "  </tbody>\n",
       "</table>\n",
       "</div>"
      ],
      "text/plain": [
       "   Season Month  Date   Temperature \n",
       "0  Summer   Feb    11            4.0\n",
       "1  Summer   Feb    12            3.9\n",
       "2  Summer   Feb    13            3.9\n",
       "3  Summer   Feb    14            4.0\n",
       "4  Summer   Feb    15            3.8"
      ]
     },
     "execution_count": 23,
     "metadata": {},
     "output_type": "execute_result"
    }
   ],
   "source": [
    "fd.head()"
   ]
  },
  {
   "cell_type": "code",
   "execution_count": 24,
   "id": "055324a8",
   "metadata": {},
   "outputs": [
    {
     "name": "stdout",
     "output_type": "stream",
     "text": [
      "<class 'pandas.core.frame.DataFrame'>\n",
      "RangeIndex: 35 entries, 0 to 34\n",
      "Data columns (total 4 columns):\n",
      " #   Column         Non-Null Count  Dtype  \n",
      "---  ------         --------------  -----  \n",
      " 0   Season         35 non-null     object \n",
      " 1   Month          35 non-null     object \n",
      " 2   Date           35 non-null     int64  \n",
      " 3    Temperature   35 non-null     float64\n",
      "dtypes: float64(1), int64(1), object(2)\n",
      "memory usage: 1.2+ KB\n"
     ]
    }
   ],
   "source": [
    "fd.info()"
   ]
  },
  {
   "cell_type": "code",
   "execution_count": 25,
   "id": "f74f41b5",
   "metadata": {},
   "outputs": [
    {
     "data": {
      "text/plain": [
       "Season            object\n",
       "Month             object\n",
       "Date               int64\n",
       " Temperature     float64\n",
       "dtype: object"
      ]
     },
     "execution_count": 25,
     "metadata": {},
     "output_type": "execute_result"
    }
   ],
   "source": [
    "fd.dtypes"
   ]
  },
  {
   "cell_type": "code",
   "execution_count": 26,
   "id": "44d59a04",
   "metadata": {},
   "outputs": [
    {
     "data": {
      "text/html": [
       "<div>\n",
       "<style scoped>\n",
       "    .dataframe tbody tr th:only-of-type {\n",
       "        vertical-align: middle;\n",
       "    }\n",
       "\n",
       "    .dataframe tbody tr th {\n",
       "        vertical-align: top;\n",
       "    }\n",
       "\n",
       "    .dataframe thead th {\n",
       "        text-align: right;\n",
       "    }\n",
       "</style>\n",
       "<table border=\"1\" class=\"dataframe\">\n",
       "  <thead>\n",
       "    <tr style=\"text-align: right;\">\n",
       "      <th></th>\n",
       "      <th>Date</th>\n",
       "      <th>Temperature</th>\n",
       "    </tr>\n",
       "  </thead>\n",
       "  <tbody>\n",
       "    <tr>\n",
       "      <th>count</th>\n",
       "      <td>35.000000</td>\n",
       "      <td>35.000000</td>\n",
       "    </tr>\n",
       "    <tr>\n",
       "      <th>mean</th>\n",
       "      <td>14.400000</td>\n",
       "      <td>3.974286</td>\n",
       "    </tr>\n",
       "    <tr>\n",
       "      <th>std</th>\n",
       "      <td>7.389181</td>\n",
       "      <td>0.159674</td>\n",
       "    </tr>\n",
       "    <tr>\n",
       "      <th>min</th>\n",
       "      <td>1.000000</td>\n",
       "      <td>3.800000</td>\n",
       "    </tr>\n",
       "    <tr>\n",
       "      <th>25%</th>\n",
       "      <td>9.500000</td>\n",
       "      <td>3.900000</td>\n",
       "    </tr>\n",
       "    <tr>\n",
       "      <th>50%</th>\n",
       "      <td>14.000000</td>\n",
       "      <td>3.900000</td>\n",
       "    </tr>\n",
       "    <tr>\n",
       "      <th>75%</th>\n",
       "      <td>19.500000</td>\n",
       "      <td>4.100000</td>\n",
       "    </tr>\n",
       "    <tr>\n",
       "      <th>max</th>\n",
       "      <td>28.000000</td>\n",
       "      <td>4.600000</td>\n",
       "    </tr>\n",
       "  </tbody>\n",
       "</table>\n",
       "</div>"
      ],
      "text/plain": [
       "            Date   Temperature \n",
       "count  35.000000      35.000000\n",
       "mean   14.400000       3.974286\n",
       "std     7.389181       0.159674\n",
       "min     1.000000       3.800000\n",
       "25%     9.500000       3.900000\n",
       "50%    14.000000       3.900000\n",
       "75%    19.500000       4.100000\n",
       "max    28.000000       4.600000"
      ]
     },
     "execution_count": 26,
     "metadata": {},
     "output_type": "execute_result"
    }
   ],
   "source": [
    "fd.describe()"
   ]
  },
  {
   "cell_type": "code",
   "execution_count": 27,
   "id": "4d2b2e0f",
   "metadata": {},
   "outputs": [
    {
     "data": {
      "text/plain": [
       "(35, 4)"
      ]
     },
     "execution_count": 27,
     "metadata": {},
     "output_type": "execute_result"
    }
   ],
   "source": [
    "\n",
    "fd.shape"
   ]
  },
  {
   "cell_type": "code",
   "execution_count": 28,
   "id": "5d1ebb55",
   "metadata": {},
   "outputs": [
    {
     "name": "stdout",
     "output_type": "stream",
     "text": [
      "One sample t test \n",
      "t statistic: 2.752358609800241 p value: 0.009422395404264431 \n"
     ]
    }
   ],
   "source": [
    "# one sample t-test\n",
    "# null hypothesis: expected value = 3.9\n",
    "t_statistic, p_value = ttest_1samp(fd[' Temperature '], 3.9)\n",
    "print('One sample t test \\nt statistic: {0} p value: {1} '.format(t_statistic, p_value))"
   ]
  },
  {
   "cell_type": "markdown",
   "id": "324a3864",
   "metadata": {},
   "source": [
    "END"
   ]
  }
 ],
 "metadata": {
  "kernelspec": {
   "display_name": "Python 3 (ipykernel)",
   "language": "python",
   "name": "python3"
  },
  "language_info": {
   "codemirror_mode": {
    "name": "ipython",
    "version": 3
   },
   "file_extension": ".py",
   "mimetype": "text/x-python",
   "name": "python",
   "nbconvert_exporter": "python",
   "pygments_lexer": "ipython3",
   "version": "3.8.8"
  }
 },
 "nbformat": 4,
 "nbformat_minor": 5
}
